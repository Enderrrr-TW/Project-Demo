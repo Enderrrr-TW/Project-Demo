{
 "cells": [
  {
   "cell_type": "code",
   "execution_count": 2,
   "metadata": {},
   "outputs": [],
   "source": [
    "import numpy as np\n",
    "import pandas as pd\n",
    "import re\n",
    "import json\n",
    "from sklearn.model_selection import StratifiedKFold\n"
   ]
  },
  {
   "cell_type": "code",
   "execution_count": 2,
   "metadata": {},
   "outputs": [],
   "source": [
    "def read_json(input_json):\n",
    "    with open(input_json) as j:\n",
    "        v=json.load(j)\n",
    "    # print(v['features'][0]['geometry']['coordinates'][0][0])\n",
    "    # print((v['features'][0]))\n",
    "\n",
    "    df=dict()\n",
    "    df['plot_number']=[]\n",
    "    df['row_ID']=[]\n",
    "    df['x0']=[]\n",
    "    df['x1']=[]\n",
    "    df['x2']=[]\n",
    "    df['x3']=[]\n",
    "    df['y0']=[]\n",
    "    df['y1']=[]\n",
    "    df['y2']=[]\n",
    "    df['y3']=[]\n",
    "        \n",
    "    for i in range(len(v['features'])):\n",
    "        df['plot_number'].append(v['features'][i]['properties']['plot'])\n",
    "        df['row_ID'].append(v['features'][i]['properties']['row'])\n",
    "        df['x0'].append([v['features'][i]['geometry']['coordinates'][0][0][0]])\n",
    "        df['x1'].append([v['features'][i]['geometry']['coordinates'][0][1][0]])\n",
    "        df['x2'].append([v['features'][i]['geometry']['coordinates'][0][2][0]])\n",
    "        df['x3'].append([v['features'][i]['geometry']['coordinates'][0][3][0]])\n",
    "        df['y0'].append([v['features'][i]['geometry']['coordinates'][0][0][1]])\n",
    "        df['y1'].append([v['features'][i]['geometry']['coordinates'][0][1][1]])\n",
    "        df['y2'].append([v['features'][i]['geometry']['coordinates'][0][2][1]])\n",
    "        df['y3'].append([v['features'][i]['geometry']['coordinates'][0][3][1]])\n",
    "    df=pd.DataFrame(df)\n",
    "    # print(max(set(df['plot_number'])))\n",
    "    return df"
   ]
  },
  {
   "cell_type": "markdown",
   "metadata": {},
   "source": [
    "## HIPS"
   ]
  },
  {
   "cell_type": "code",
   "execution_count": 3,
   "metadata": {},
   "outputs": [
    {
     "name": "stdout",
     "output_type": "stream",
     "text": [
      "[5456, 5468, 5452, 5486, 5462, 5469, 5463, 5484, 5421, 5439, 5422, 5443, 5448, 5483, 5447, 5478, 5458, 5471, 5406, 5444, 5403, 5437]\n",
      "[5416, 5438, 5449, 5475, 5453, 5467, 5464, 5479, 5455, 5472, 5417, 5430, 5409, 5425, 5451, 5470, 5414, 5426, 5418, 5434, 5415, 5442]\n",
      "[5410, 5435, 5401, 5427, 5411, 5433, 5446, 5488, 5420, 5436, 5465, 5476, 5461, 5473, 5402, 5423, 5450, 5474, 5412, 5440, 5460, 5485]\n",
      "[5466, 5482, 5454, 5487, 5419, 5431, 5407, 5429, 5445, 5477, 5408, 5441, 5413, 5432, 5405, 5428, 5404, 5424, 5457, 5481, 5459, 5480]\n"
     ]
    }
   ],
   "source": [
    "# input_json=r'E:\\Ender\\data\\UAV\\HIPS_2021\\life\\20210617_india_f42mYS_HIPS_1cm_manshrink.geojson' \n",
    "input_json=r'E:\\Ender\\data\\UAV\\HIPS_2020\\man_adj_2020_f54N_HIPS_utm.geojson'\n",
    "\n",
    "df=read_json(input_json)\n",
    "df=df[df['plot_number']<5489]\n",
    "variety=pd.read_excel('E:/Ender/data/LAI-2200/HIPS_2020/field.xlsx',sheet_name='Sheet2')\n",
    "variety=variety[variety['Plot']<5489]\n",
    "variety_set=list(set(variety['Pedigree']))\n",
    "index=np.random.choice(len(variety_set),9)\n",
    "selected_variety=[]\n",
    "for i in index:\n",
    "    selected_variety.append(variety_set[i])\n",
    "# print(selected_variety)\n",
    "\n",
    "from sklearn.model_selection import KFold\n",
    "kf=KFold(n_splits=4,shuffle=True,random_state=42)\n",
    "kf.get_n_splits(variety_set)\n",
    "for i,j in kf.split(variety_set):\n",
    "    v=[]\n",
    "    for k in j:\n",
    "        v.append(variety_set[k])\n",
    "    plots=[]\n",
    "    for k in v:\n",
    "        for r in range(len(variety['Pedigree'])):\n",
    "            if variety['Pedigree'][r]==k:\n",
    "                plots.append(variety['Plot'][r])\n",
    "\n",
    "    print(plots)"
   ]
  },
  {
   "cell_type": "code",
   "execution_count": 4,
   "metadata": {},
   "outputs": [
    {
     "name": "stdout",
     "output_type": "stream",
     "text": [
      "['PHB47', 'PHAJ0', 'LH185', 'LH195', 'LH244 X MO17', 'LH244 X PHZ51', 'MO17', 'PHZ51', 'PHTD5', 'PHG29 X PHG47', 'PHB47 X PHZ51']\n",
      "['PHB47 X MO17', 'PHRE1', 'ARPA W22 (X17EA)', 'PHW65', 'PHJ89', 'PHJ89 X PH207', 'LH195 X MO17', 'PHP02', 'B73 X PHK76', 'B73 X MO17', 'PHRE1 X PHTD5']\n",
      "['PHB47 X PHK76', 'PHB47 X PHN82', 'LH244 X PHN82', 'LH244', 'B73 X PHZ51', 'LH82', 'PHR03', 'LH145 X LH82', 'PHT69', 'LH244 X PHK76', 'TX714']\n",
      "['PHJ40', 'B73', 'LH195 X PHK76', 'B73 X PHN82', 'B84', 'PHJ40 X PHAJ0', 'TX714 X PHZ51', 'LH195 X PHZ51', 'LH195 X PHN82', 'LH145', 'PH207']\n"
     ]
    }
   ],
   "source": [
    "for i,j in kf.split(variety_set):\n",
    "    v=[]\n",
    "    for k in j:\n",
    "        v.append(variety_set[k])\n",
    "    plots=[]\n",
    "    for k in v:\n",
    "        for r in range(len(variety['Pedigree'])):\n",
    "            if variety['Pedigree'][r]==k:\n",
    "                plots.append(variety['Plot'][r])\n",
    "\n",
    "    print(v)"
   ]
  },
  {
   "cell_type": "markdown",
   "metadata": {},
   "source": [
    "### 2021"
   ]
  },
  {
   "cell_type": "code",
   "execution_count": 28,
   "metadata": {},
   "outputs": [
    {
     "name": "stdout",
     "output_type": "stream",
     "text": [
      "[4403, 4429, 4401, 4421, 4360, 4381, 4366, 4374, 4371, 4388, 4355, 4375, 4413, 4432, 4363, 4393, 4400, 4417]\n",
      "[4404, 4423, 4402, 4431, 4361, 4389, 4352, 4386, 4364, 4392, 4414, 4420, 4372, 4385, 4351, 4390, 4367, 4376]\n",
      "[4409, 4419, 4365, 4382, 4398, 4436, 4369, 4391, 4396, 4418, 4359, 4394, 4395, 4426, 4405, 4434, 4356, 4387]\n",
      "[4415, 4437, 4407, 4430, 4354, 4384, 4370, 4379, 4411, 4422, 4410, 4425, 4357, 4383, 4412, 4435, 4358, 4373]\n",
      "[4399, 4424, 4362, 4380, 4416, 4427, 4408, 4433, 4353, 4378, 4406, 4428, 4368, 4377, 4397, 4438]\n"
     ]
    },
    {
     "name": "stderr",
     "output_type": "stream",
     "text": [
      "<ipython-input-28-020da3f401c6>:11: SettingWithCopyWarning: \n",
      "A value is trying to be set on a copy of a slice from a DataFrame\n",
      "\n",
      "See the caveats in the documentation: https://pandas.pydata.org/pandas-docs/stable/user_guide/indexing.html#returning-a-view-versus-a-copy\n",
      "  variety['Pedigree'][i]='ARPA W22 (X17EA)'\n"
     ]
    }
   ],
   "source": [
    "input_json=r'E:\\Ender\\data\\UAV\\HIPS_2021\\20210617_india_f42mYS_HIPS_1cm_manshrink.geojson'\n",
    "\n",
    "df=read_json(input_json)\n",
    "df=df[df['plot_number']<4439]\n",
    "df=df[df['plot_number']>4350]\n",
    "variety=pd.read_excel('E:/Ender/HIPS_2021_variety_map.xlsx',sheet_name='Sheet1')\n",
    "variety=variety[variety['Plot']<4439]\n",
    "variety=variety[variety['Plot']>4350]\n",
    "for i in range(len(variety['Pedigree'])):\n",
    "    if variety['Pedigree'][i]=='W22-UNIFORM MU STRAIN':\n",
    "        variety['Pedigree'][i]='ARPA W22 (X17EA)'\n",
    "variety_set_2021=list(set(variety['Pedigree']))\n",
    "for i,j in kf.split(variety_set):\n",
    "    v=[]\n",
    "    for k in j:\n",
    "        v.append(variety_set[k])\n",
    "    plots=[]\n",
    "    for k in v:\n",
    "        for r in range(len(variety['Pedigree'])):\n",
    "            if variety['Pedigree'][r]==k:\n",
    "                plots.append(variety['Plot'][r])\n",
    "\n",
    "    print(plots)"
   ]
  },
  {
   "cell_type": "code",
   "execution_count": 29,
   "metadata": {},
   "outputs": [
    {
     "name": "stdout",
     "output_type": "stream",
     "text": [
      "['PHT69', 'ARPA W22 (X17EA)', 'MO17', 'PHB47', 'TX714', 'LH195 X PHK76', 'B73', 'PHJ40', 'PHJ89', 'PHRE1', 'PHRE1 X PHTD5', 'LH145 X LH82', 'TX714 X PHZ51', 'PHJ40 X PHAJ0', 'B73 X PHK76', 'B73 X PHN82', 'LH195', 'LH244 X PHK76', 'LH244', 'PHZ51', 'LH185', 'LH195 X PHZ51', 'LH244 X PHZ51', 'PH207', 'PHB47 X PHN82', 'LH244 X PHN82', 'PHB47 X PHK76', 'B73 X MO17', 'PHAJ0', 'PHW65', 'PHP02', 'PHG29 X PHG47', 'PHTD5', 'LH195 X MO17', 'PHJ89 X PH207', 'PHR03', 'LH145', 'B73 X PHZ51', 'LH244 X MO17', 'PHB47 X PHZ51', 'LH82', 'LH195 X PHN82', 'PHB47 X MO17', 'B84']\n",
      "-----------\n",
      "['PHT69', 'ARPA W22 (X17EA)', 'MO17', 'PHB47', 'TX714', 'LH195 X PHK76', 'B73', 'PHJ40', 'PHJ89', 'PHRE1', 'PHRE1 X PHTD5', 'LH145 X LH82', 'TX714 X PHZ51', 'PHJ40 X PHAJ0', 'B73 X PHK76', 'B73 X PHN82', 'LH195', 'LH244 X PHK76', 'LH244', 'PHZ51', 'LH185', 'LH195 X PHZ51', 'LH244 X PHZ51', 'PH207', 'PHB47 X PHN82', 'PHB47 X PHK76', 'LH244 X PHN82', 'B73 X MO17', 'PHP02', 'PHAJ0', 'PHW65', 'PHG29 X PHG47', 'PHTD5', 'LH195 X MO17', 'PHJ89 X PH207', 'PHR03', 'LH145', 'B73 X PHZ51', 'LH244 X MO17', 'PHB47 X PHZ51', 'LH82', 'LH195 X PHN82', 'PHB47 X MO17', 'B84']\n"
     ]
    }
   ],
   "source": [
    "print(variety_set_2021)\n",
    "print('-----------')\n",
    "print(variety_set)\n",
    "for i in variety_set_2021:\n",
    "    if i not in variety_set:\n",
    "        print(i)\n",
    "for i in variety_set:\n",
    "    if i not in variety_set_2021:\n",
    "        print(i)\n",
    "# variety_set_2021=variety_set_2021.sort()\n",
    "# variety_set=variety_set.sort()\n",
    "# variety_set==variety_set_2021"
   ]
  },
  {
   "cell_type": "code",
   "execution_count": 30,
   "metadata": {},
   "outputs": [
    {
     "data": {
      "text/plain": [
       "True"
      ]
     },
     "execution_count": 30,
     "metadata": {},
     "output_type": "execute_result"
    }
   ],
   "source": [
    "variety_set_2021_sort=variety_set_2021.sort()\n",
    "variety_set_sort=variety_set.sort()\n",
    "variety_set_sort==variety_set_2021_sort"
   ]
  },
  {
   "cell_type": "code",
   "execution_count": 4,
   "metadata": {},
   "outputs": [
    {
     "data": {
      "image/png": "[encoded data removed]",
      "text/plain": [
       "<Figure size 640x480 with 1 Axes>"
      ]
     },
     "metadata": {},
     "output_type": "display_data"
    }
   ],
   "source": [
    "import json\n",
    "import matplotlib.pyplot as plt\n",
    "\n",
    "for i in range(10):\n",
    "    fname=f'E:/Ender/data/UAV/HIPS_2021/10fold_json/train_test_split_fold{i}.json'\n",
    "    with open(fname,'r') as json_file:\n",
    "        data_dict=json.load(json_file)\n",
    "    xx_train=[i for j in range(len(data_dict['train']['LAI']))]\n",
    "    xx_testt=[i for j in range(len(data_dict['test']['LAI']))]\n",
    "    plt.scatter(xx_train,data_dict['train']['LAI'], color='blue')\n",
    "    plt.scatter(xx_testt,data_dict['test']['LAI'], color='red')\n",
    "    # print(data_dict['test']['LAI'])   \n",
    "plt.xlabel('fold')\n",
    "plt.ylabel('LAI')\n",
    "# plt.legend()\n",
    "plt.show() \n"
   ]
  },
  {
   "cell_type": "code",
   "execution_count": 5,
   "metadata": {},
   "outputs": [
    {
     "data": {
      "image/png": "[encoded data removed]",
      "text/plain": [
       "<Figure size 640x480 with 1 Axes>"
      ]
     },
     "metadata": {},
     "output_type": "display_data"
    }
   ],
   "source": [
    "import seaborn as sns\n",
    "csv_path='E:/Ender/data/LAI-2200/HIPS/LAI.csv'\n",
    "csv=pd.read_csv(csv_path)\n",
    "LAI1=csv['20210730']\n",
    "hybrid=csv[csv['plot']<4395]\n",
    "inbred=csv[csv['plot']>=4395]\n",
    "def plottt(date):\n",
    "    date=str(date)\n",
    "    plt.hist(x=hybrid[date],color='blue',alpha=0.5,label='hybrid')\n",
    "    plt.hist(x=inbred[date],color='red',alpha=0.5,label='inbred')\n",
    "    plt.title(date)\n",
    "    plt.legend()\n",
    "    plt.xlabel('LAI')\n",
    "    plt.ylabel('count')\n",
    "    plt.show()\n",
    "plottt(20210828)"
   ]
  },
  {
   "cell_type": "code",
   "execution_count": 27,
   "metadata": {},
   "outputs": [
    {
     "data": {
      "image/png": "[encoded data removed]",
      "text/plain": [
       "<Figure size 640x480 with 1 Axes>"
      ]
     },
     "metadata": {},
     "output_type": "display_data"
    }
   ],
   "source": [
    "# All LAI distribution\n",
    "csv=pd.read_csv(csv_path)\n",
    "csv=csv.drop(columns='plot')\n",
    "LAI_all=csv.to_numpy()\n",
    "LAI_all=LAI_all.reshape(-1)\n",
    "plt.hist(x=LAI_all)\n",
    "plt.xlabel('LAI',fontsize=18)\n",
    "plt.ylabel('Count',fontsize=18)\n",
    "plt.xticks(fontsize=18)\n",
    "plt.yticks(fontsize=18)\n",
    "plt.title('LAI distribution',fontsize=24)\n",
    "plt.savefig(r'E:\\Ender\\LAI\\LAI_distribution.png',dpi=800,bbox_inches='tight')\n",
    "plt.show()"
   ]
  },
  {
   "cell_type": "markdown",
   "metadata": {},
   "source": [
    "## 10 fold (stratified by inbred/hybrid)"
   ]
  },
  {
   "cell_type": "code",
   "execution_count": 21,
   "metadata": {},
   "outputs": [
    {
     "name": "stdout",
     "output_type": "stream",
     "text": [
      "B73 X PHZ51\n",
      "[4415, 4437, 4413, 4432, 4355, 4375, 4406, 4428, 4360, 4381]\n",
      "[4396, 4418, 4370, 4379, 4364, 4392, 4407, 4430, 4411, 4422]\n",
      "[4363, 4393, 4369, 4391, 4368, 4377, 4409, 4419, 4403, 4429]\n",
      "[4352, 4386, 4397, 4438, 4367, 4376, 4356, 4387, 4412, 4435]\n",
      "[4400, 4417, 4366, 4374, 4361, 4389, 4410, 4425]\n",
      "[4402, 4431, 4362, 4380, 4359, 4394, 4404, 4423]\n",
      "[4408, 4433, 4357, 4383, 4371, 4388, 4405, 4434]\n",
      "[4353, 4378, 4395, 4426, 4358, 4373, 4401, 4421]\n",
      "[4365, 4382, 4351, 4390, 4399, 4424, 4414, 4420]\n",
      "[4372, 4385, 4416, 4427, 4398, 4436, 4354, 4384]\n"
     ]
    },
    {
     "name": "stderr",
     "output_type": "stream",
     "text": [
      "<ipython-input-21-d07254d429c5>:10: SettingWithCopyWarning: \n",
      "A value is trying to be set on a copy of a slice from a DataFrame\n",
      "\n",
      "See the caveats in the documentation: https://pandas.pydata.org/pandas-docs/stable/user_guide/indexing.html#returning-a-view-versus-a-copy\n",
      "  variety['Pedigree'][i]='ARPA W22 (X17EA)'\n"
     ]
    }
   ],
   "source": [
    "input_json=r'E:\\Ender\\data\\UAV\\HIPS_2021\\20210617_india_f42mYS_HIPS_1cm_manshrink.geojson'\n",
    "df=read_json(input_json)\n",
    "df=df[df['plot_number']<4439]\n",
    "df=df[df['plot_number']>4350]\n",
    "variety=pd.read_excel('E:/Ender/HIPS_2021_variety_map.xlsx',sheet_name='Sheet1')\n",
    "variety=variety[variety['Plot']<4439]\n",
    "variety=variety[variety['Plot']>4350]\n",
    "for i in range(len(variety['Pedigree'])):\n",
    "    if variety['Pedigree'][i]=='W22-UNIFORM MU STRAIN':\n",
    "        variety['Pedigree'][i]='ARPA W22 (X17EA)'\n",
    "variety_set_2021=list(set(variety['Pedigree']))\n",
    "variety_set_2021.sort()\n",
    "print(variety_set_2021[5])\n",
    "hi=np.zeros((len(variety_set_2021)))\n",
    "for i in range(len(variety_set_2021)):\n",
    "    if ' X ' in variety_set_2021[i]:\n",
    "        hi[i]=1\n",
    "skf=StratifiedKFold(n_splits=10,random_state=42,shuffle=True)\n",
    "skf.get_n_splits(variety_set_2021,hi)\n",
    "for train_index, test_index in skf.split(variety_set_2021,hi):\n",
    "    v=[]\n",
    "    for k in test_index:\n",
    "        v.append(variety_set_2021[k])\n",
    "    plots=[]\n",
    "    for k in v:\n",
    "        for r in range(len(variety['Pedigree'])):\n",
    "            if variety['Pedigree'][r]==k:\n",
    "                plots.append(variety['Plot'][r])\n",
    "    print(plots)"
   ]
  },
  {
   "cell_type": "code",
   "execution_count": 23,
   "metadata": {},
   "outputs": [
    {
     "name": "stdout",
     "output_type": "stream",
     "text": [
      "['ARPA W22 (X17EA)', 'LH145', 'PHJ89 X PH207', 'PHP02', 'TX714 X PHZ51']\n",
      "['LH195', 'LH195 X PHZ51', 'LH244 X PHK76', 'MO17', 'PH207']\n",
      "['B73 X PHZ51', 'LH145 X LH82', 'LH244 X MO17', 'PHT69', 'TX714']\n",
      "['B73 X PHN82', 'B84', 'LH195 X PHN82', 'PHB47 X MO17', 'PHR03']\n",
      "['LH82', 'PHB47 X PHN82', 'PHJ40 X PHAJ0', 'PHTD5']\n",
      "['B73', 'B73 X PHK76', 'LH244 X PHN82', 'PHB47']\n",
      "['LH185', 'LH195 X MO17', 'PHB47 X PHK76', 'PHW65']\n",
      "['LH244 X PHZ51', 'PHAJ0', 'PHB47 X PHZ51', 'PHJ89']\n",
      "['LH195 X PHK76', 'PHG29 X PHG47', 'PHJ40', 'PHZ51']\n",
      "['B73 X MO17', 'LH244', 'PHRE1', 'PHRE1 X PHTD5']\n"
     ]
    }
   ],
   "source": [
    "skf=StratifiedKFold(n_splits=10,random_state=42,shuffle=True)\n",
    "skf.get_n_splits(variety_set_2021,hi)\n",
    "for train_index, test_index in skf.split(variety_set_2021,hi):\n",
    "    v=[]\n",
    "    for k in test_index:\n",
    "        v.append(variety_set_2021[k])\n",
    "    plots=[]\n",
    "    for k in v:\n",
    "        for r in range(len(variety['Pedigree'])):\n",
    "            if variety['Pedigree'][r]==k:\n",
    "                plots.append(variety['Plot'][r])\n",
    "    print(v)\n",
    "\n"
   ]
  },
  {
   "cell_type": "markdown",
   "metadata": {},
   "source": [
    "## 9D"
   ]
  },
  {
   "cell_type": "code",
   "execution_count": 57,
   "metadata": {},
   "outputs": [
    {
     "data": {
      "text/plain": [
       "['Beck’s 5994V2P', 'DKC59-82RIB', '(B73xMo17)-F1', 'P1197AM', 'Beck’s 6374V2P']"
      ]
     },
     "execution_count": 57,
     "metadata": {},
     "output_type": "execute_result"
    }
   ],
   "source": [
    "input_json=r'E:\\Ender\\data\\UAV\\9CD\\20210727_9dtopmid_ZM_manshrink.geojson'\n",
    "df=read_json(input_json)\n",
    "df['plot_number']=[int(df['plot_number'][i]) for i in range(len(df['plot_number']))]\n",
    "df=df[df['plot_number']<6219]\n",
    "variety=pd.read_excel('E:/Ender/data/UAV/9CD/fieldbook_9D.xlsx',sheet_name='Variety')\n",
    "variety=variety[np.logical_and(variety['Plot']!='Fill',variety['Plot']!='fill')]\n",
    "\n",
    "variety['Plot']=[int(variety['Plot'].iloc[i]) for i in range(len(variety['Plot']))]\n",
    "maize_plot=pd.read_excel('E:/Ender/data/UAV/9CD/fieldbook_9D.xlsx',sheet_name='Sheet5',header=None).to_numpy()\n",
    "maize_plot=list(set((maize_plot.reshape(-1))))\n",
    "idx=[variety['Plot'].iloc[i] in maize_plot for i in range(len(variety['Plot']))]\n",
    "variety=variety[idx]\n",
    "variety_set=list(set(variety['Pedigree']))\n",
    "index=np.random.choice(len(variety_set),9)\n",
    "selected_variety=[]\n",
    "for i in index:\n",
    "    selected_variety.append(variety_set[i])\n",
    "# print(selected_variety)\n",
    "\n",
    "from sklearn.model_selection import KFold\n",
    "kf=KFold(n_splits=5,shuffle=True,random_state=42)\n",
    "kf.get_n_splits(variety_set)\n",
    "for i,j in kf.split(variety_set):\n",
    "    v=[]\n",
    "    for k in j:\n",
    "        v.append(variety_set[k])\n",
    "    plots=[]\n",
    "    for k in v:\n",
    "        for r in range(len(variety['Pedigree'])):\n",
    "            if variety['Pedigree'].iloc[r]==k:\n",
    "                plots.append(variety['Plot'].iloc[r])\n",
    "\n",
    "    # print(plots)\n",
    "variety_set"
   ]
  },
  {
   "cell_type": "code",
   "execution_count": null,
   "metadata": {},
   "outputs": [],
   "source": [
    "for i,j in kf.split(variety_set):\n",
    "    v=[]\n",
    "    for k in j:\n",
    "        v.append(variety_set[k])\n",
    "    plots=[]\n",
    "    for k in v:\n",
    "        for r in range(len(variety['Pedigree'])):\n",
    "            if variety['Pedigree'][r]==k:\n",
    "                plots.append(variety['Plot'][r])\n",
    "\n",
    "    print(v)"
   ]
  },
  {
   "cell_type": "code",
   "execution_count": 56,
   "metadata": {},
   "outputs": [
    {
     "name": "stdout",
     "output_type": "stream",
     "text": [
      "{'Beck’s 5994V2P', 'DKC59-82RIB', '(B73xMo17)-F1', 'P1197AM', 'Beck’s 6374V2P'}\n"
     ]
    }
   ],
   "source": [
    "variety=pd.read_excel('E:/Ender/data/UAV/9CD/fieldbook_9D.xlsx',sheet_name='Sheet4')\n",
    "print(set(variety['Pedigree']))"
   ]
  }
 ],
 "metadata": {
  "interpreter": {
   "hash": "dac48b6774d341c9858285087d9e116f9481648e6b6f684677228c02e3385373"
  },
  "kernelspec": {
   "display_name": "Python 3.8.10 64-bit ('ggdal': conda)",
   "language": "python",
   "name": "python3"
  },
  "language_info": {
   "codemirror_mode": {
    "name": "ipython",
    "version": 3
   },
   "file_extension": ".py",
   "mimetype": "text/x-python",
   "name": "python",
   "nbconvert_exporter": "python",
   "pygments_lexer": "ipython3",
   "version": "3.8.10"
  },
  "orig_nbformat": 4
 },
 "nbformat": 4,
 "nbformat_minor": 2
}
